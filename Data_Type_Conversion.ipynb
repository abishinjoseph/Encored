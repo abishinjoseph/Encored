{
  "nbformat": 4,
  "nbformat_minor": 0,
  "metadata": {
    "colab": {
      "provenance": [],
      "authorship_tag": "ABX9TyMNvPa/X+yyoUDEsd5xlvO1",
      "include_colab_link": true
    },
    "kernelspec": {
      "name": "python3",
      "display_name": "Python 3"
    },
    "language_info": {
      "name": "python"
    }
  },
  "cells": [
    {
      "cell_type": "markdown",
      "metadata": {
        "id": "view-in-github",
        "colab_type": "text"
      },
      "source": [
        "<a href=\"https://colab.research.google.com/github/abishinjoseph/Encored/blob/main/Data_Type_Conversion.ipynb\" target=\"_parent\"><img src=\"https://colab.research.google.com/assets/colab-badge.svg\" alt=\"Open In Colab\"/></a>"
      ]
    },
    {
      "cell_type": "code",
      "execution_count": null,
      "metadata": {
        "colab": {
          "base_uri": "https://localhost:8080/"
        },
        "id": "bVc-KrTyV6qH",
        "outputId": "d03107b2-dadf-4016-e060-d20b53318a8c"
      },
      "outputs": [
        {
          "output_type": "stream",
          "name": "stdout",
          "text": [
            "Current Data Types:\n",
            "Class                             int64\n",
            "Alcohol                         float64\n",
            "Malic acid                      float64\n",
            "Ash                             float64\n",
            "Alcalinity of ash               float64\n",
            "Magnesium                         int64\n",
            "Total phenols                   float64\n",
            "Flavanoids                      float64\n",
            "Nonflavanoid phenols            float64\n",
            "Proanthocyanins                 float64\n",
            "Color intensity                 float64\n",
            "Hue                             float64\n",
            "OD280/OD315 of diluted wines    float64\n",
            "Proline                           int64\n",
            "dtype: object\n",
            "\n",
            "New Data Types:\n",
            "Class                           category\n",
            "Alcohol                          float64\n",
            "Malic acid                       float64\n",
            "Ash                              float64\n",
            "Alcalinity of ash                float64\n",
            "Magnesium                          int64\n",
            "Total phenols                    float64\n",
            "Flavanoids                       float64\n",
            "Nonflavanoid phenols             float64\n",
            "Proanthocyanins                  float64\n",
            "Color intensity                  float64\n",
            "Hue                              float64\n",
            "OD280/OD315 of diluted wines     float64\n",
            "Proline                            int64\n",
            "dtype: object\n",
            "Error: Unable to parse one of the files. Please check the file format.\n"
          ]
        }
      ],
      "source": [
        "import pandas as pd\n",
        "\n",
        "try:\n",
        "    # Step 1: Load the dataset\n",
        "    file_path = \"wine.data\"\n",
        "    column_names = [\n",
        "        \"Class\", \"Alcohol\", \"Malic acid\", \"Ash\", \"Alcalinity of ash\",\n",
        "        \"Magnesium\", \"Total phenols\", \"Flavanoids\", \"Nonflavanoid phenols\",\n",
        "        \"Proanthocyanins\", \"Color intensity\", \"Hue\", \"OD280/OD315 of diluted wines\", \"Proline\"\n",
        "    ]\n",
        "    df = pd.read_csv(file_path, names=column_names)\n",
        "\n",
        "    # Step 2: Check the current data types of columns\n",
        "    print(\"Current Data Types:\")\n",
        "    print(df.dtypes)\n",
        "\n",
        "    # Step 3: Convert data types as needed\n",
        "    # Example conversions:\n",
        "    df['Alcohol'] = df['Alcohol'].astype(float)\n",
        "    df['Magnesium'] = df['Magnesium'].astype(int)\n",
        "    df['Class'] = df['Class'].astype('category')\n",
        "\n",
        "    # Step 4: Verify the new data types\n",
        "    print(\"\\nNew Data Types:\")\n",
        "    print(df.dtypes)\n",
        "\n",
        "    # Step 5: Save the dataset back to a file if necessary\n",
        "    # df.to_csv('converted_wine_dataset.csv', index=False)\n",
        "\n",
        "    # Additional: Load column descriptions from wine.names (if needed)\n",
        "    column_descriptions = pd.read_csv(\"wine.names\", sep=\":\", skiprows=33, header=None, index_col=0)\n",
        "    print(\"\\nColumn Descriptions:\")\n",
        "    print(column_descriptions)\n",
        "\n",
        "    # Additional: Load additional information from index (if needed)\n",
        "    index_info = pd.read_csv(\"index\", sep=\":\", header=None, index_col=0)\n",
        "    print(\"\\nIndex Information:\")\n",
        "    print(index_info)\n",
        "\n",
        "except FileNotFoundError as e:\n",
        "    print(f\"Error: {e.filename} not found.\")\n",
        "except pd.errors.ParserError:\n",
        "    print(\"Error: Unable to parse one of the files. Please check the file format.\")\n",
        "except Exception as e:\n",
        "    print(f\"An error occurred: {str(e)}\")\n"
      ]
    },
    {
      "cell_type": "code",
      "source": [],
      "metadata": {
        "id": "ZaTLLHBmV7L2"
      },
      "execution_count": null,
      "outputs": []
    }
  ]
}