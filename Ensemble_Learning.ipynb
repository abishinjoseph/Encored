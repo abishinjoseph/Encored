{
  "nbformat": 4,
  "nbformat_minor": 0,
  "metadata": {
    "colab": {
      "provenance": [],
      "authorship_tag": "ABX9TyPs4ivvPx3UBkBz3C12Ifeb",
      "include_colab_link": true
    },
    "kernelspec": {
      "name": "python3",
      "display_name": "Python 3"
    },
    "language_info": {
      "name": "python"
    }
  },
  "cells": [
    {
      "cell_type": "markdown",
      "metadata": {
        "id": "view-in-github",
        "colab_type": "text"
      },
      "source": [
        "<a href=\"https://colab.research.google.com/github/abishinjoseph/Encored/blob/main/Ensemble_Learning.ipynb\" target=\"_parent\"><img src=\"https://colab.research.google.com/assets/colab-badge.svg\" alt=\"Open In Colab\"/></a>"
      ]
    },
    {
      "cell_type": "code",
      "execution_count": null,
      "metadata": {
        "id": "VBsjBz59Ivfm",
        "colab": {
          "base_uri": "https://localhost:8080/"
        },
        "outputId": "9ec321f2-2f7f-408a-9acb-ea13fd5b9297"
      },
      "outputs": [
        {
          "output_type": "stream",
          "name": "stdout",
          "text": [
            "Stacking Classifier Accuracy: 0.940406976744186\n"
          ]
        }
      ],
      "source": [
        "from sklearn.model_selection import train_test_split\n",
        "from sklearn.ensemble import RandomForestClassifier\n",
        "from sklearn.svm import SVC\n",
        "from sklearn.ensemble import StackingClassifier\n",
        "from sklearn.metrics import accuracy_score\n",
        "import pandas as pd\n",
        "from sklearn.impute import SimpleImputer\n",
        "\n",
        "# Load data\n",
        "train_data = pd.read_csv(\"train.csv\")\n",
        "test_data = pd.read_csv(\"test.csv\")\n",
        "sample_submission = pd.read_csv(\"sample_submission.csv\")\n",
        "\n",
        "# Prepare data\n",
        "X_train = train_data.drop(columns=['label']).values\n",
        "y_train = train_data['label'].values\n",
        "X_test = test_data.values\n",
        "\n",
        "# Handling missing values\n",
        "imputer = SimpleImputer(strategy='mean')\n",
        "X_train = imputer.fit_transform(X_train)\n",
        "X_test = imputer.transform(X_test)\n",
        "\n",
        "# Split the training data into training and validation sets\n",
        "X_train, X_val, y_train, y_val = train_test_split(X_train, y_train, test_size=0.2, random_state=42)\n",
        "\n",
        "# Define base classifiers\n",
        "base_classifiers = [\n",
        "    ('rf', RandomForestClassifier(n_estimators=100, random_state=42)),\n",
        "    ('svm', SVC(kernel='linear', C=0.1, probability=True, random_state=42))\n",
        "]\n",
        "\n",
        "# Define meta-classifier\n",
        "meta_classifier = RandomForestClassifier(n_estimators=100, random_state=42)\n",
        "\n",
        "# Initialize stacking classifier\n",
        "stacking_clf = StackingClassifier(estimators=base_classifiers, final_estimator=meta_classifier)\n",
        "\n",
        "# Train stacking classifier\n",
        "stacking_clf.fit(X_train, y_train)\n",
        "\n",
        "# Make predictions on the validation set\n",
        "y_pred = stacking_clf.predict(X_val)\n",
        "\n",
        "# Calculate accuracy\n",
        "accuracy = accuracy_score(y_val, y_pred)\n",
        "print(\"Stacking Classifier Accuracy:\", accuracy)\n",
        "\n",
        "# Make predictions on test data\n",
        "test_predictions = stacking_clf.predict(X_test)\n",
        "\n",
        "# Prepare submission file\n",
        "submission_df = pd.DataFrame({'ImageId': range(1, len(test_predictions) + 1), 'Label': test_predictions})\n",
        "\n",
        "# Save submission file\n",
        "submission_df.to_csv(\"submission.csv\", index=False)\n"
      ]
    }
  ]
}