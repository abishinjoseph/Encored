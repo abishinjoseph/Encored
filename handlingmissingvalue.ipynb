{
  "nbformat": 4,
  "nbformat_minor": 0,
  "metadata": {
    "colab": {
      "provenance": [],
      "authorship_tag": "ABX9TyPRR/Pp3q4W94hS9yusiMnh",
      "include_colab_link": true
    },
    "kernelspec": {
      "name": "python3",
      "display_name": "Python 3"
    },
    "language_info": {
      "name": "python"
    }
  },
  "cells": [
    {
      "cell_type": "markdown",
      "metadata": {
        "id": "view-in-github",
        "colab_type": "text"
      },
      "source": [
        "<a href=\"https://colab.research.google.com/github/abishinjoseph/Encored/blob/main/handlingmissingvalue.ipynb\" target=\"_parent\"><img src=\"https://colab.research.google.com/assets/colab-badge.svg\" alt=\"Open In Colab\"/></a>"
      ]
    },
    {
      "cell_type": "code",
      "execution_count": 3,
      "metadata": {
        "colab": {
          "base_uri": "https://localhost:8080/"
        },
        "id": "Wv78X9LTLIUA",
        "outputId": "a562d45e-98be-46bc-a43a-c58f869da935"
      },
      "outputs": [
        {
          "output_type": "stream",
          "name": "stdout",
          "text": [
            "Missing Values in Train Dataset:\n",
            "PassengerId      0\n",
            "Survived         0\n",
            "Pclass           0\n",
            "Name             0\n",
            "Sex              0\n",
            "Age            177\n",
            "SibSp            0\n",
            "Parch            0\n",
            "Ticket           0\n",
            "Fare             0\n",
            "Cabin          687\n",
            "Embarked         2\n",
            "dtype: int64\n",
            "\n",
            "Missing Values in Test Dataset:\n",
            "PassengerId      0\n",
            "Pclass           0\n",
            "Name             0\n",
            "Sex              0\n",
            "Age             86\n",
            "SibSp            0\n",
            "Parch            0\n",
            "Ticket           0\n",
            "Fare             1\n",
            "Cabin          327\n",
            "Embarked         0\n",
            "dtype: int64\n",
            "\n",
            "Missing Values in Gender Dataset:\n",
            "PassengerId    0\n",
            "Survived       0\n",
            "dtype: int64\n"
          ]
        }
      ],
      "source": [
        "import pandas as pd\n",
        "from sklearn.model_selection import train_test_split\n",
        "\n",
        "# Load training, test, and gender datasets\n",
        "train_df = pd.read_csv('train.csv')\n",
        "test_df = pd.read_csv('test.csv')\n",
        "gender_df = pd.read_csv('gender_submission.csv')\n",
        "\n",
        "# Step 1: Identify Missing Values\n",
        "missing_values_train = train_df.isnull().sum()\n",
        "missing_values_test = test_df.isnull().sum()\n",
        "missing_values_gender = gender_df.isnull().sum()\n",
        "\n",
        "print(\"Missing Values in Train Dataset:\")\n",
        "print(missing_values_train)\n",
        "print(\"\\nMissing Values in Test Dataset:\")\n",
        "print(missing_values_test)\n",
        "print(\"\\nMissing Values in Gender Dataset:\")\n",
        "print(missing_values_gender)\n",
        "\n",
        "# Step 2: Handle Missing Values\n",
        "# Fill missing values in the 'Age' column of the training and test datasets with the median\n",
        "median_age_train = train_df['Age'].median()\n",
        "train_df['Age'].fillna(median_age_train, inplace=True)\n",
        "\n",
        "median_age_test = test_df['Age'].median()\n",
        "test_df['Age'].fillna(median_age_test, inplace=True)\n",
        "\n",
        "\n",
        "# Step 3: Merge Gender Information into Training and Test Datasets\n",
        "train_df = pd.merge(train_df, gender_df, on='PassengerId', how='left')\n",
        "test_df = pd.merge(test_df, gender_df, on='PassengerId', how='left')\n",
        "\n",
        "# Now you have cleaned training and test sets with gender information incorporated\n"
      ]
    },
    {
      "cell_type": "code",
      "source": [],
      "metadata": {
        "id": "2TDeR_CJLQvI"
      },
      "execution_count": null,
      "outputs": []
    }
  ]
}