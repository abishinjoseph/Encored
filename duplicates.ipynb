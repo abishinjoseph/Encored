{
  "nbformat": 4,
  "nbformat_minor": 0,
  "metadata": {
    "colab": {
      "provenance": [],
      "authorship_tag": "ABX9TyO44r//F9zQ1i1KgvwfkrKi",
      "include_colab_link": true
    },
    "kernelspec": {
      "name": "python3",
      "display_name": "Python 3"
    },
    "language_info": {
      "name": "python"
    }
  },
  "cells": [
    {
      "cell_type": "markdown",
      "metadata": {
        "id": "view-in-github",
        "colab_type": "text"
      },
      "source": [
        "<a href=\"https://colab.research.google.com/github/abishinjoseph/Encored/blob/main/duplicates.ipynb\" target=\"_parent\"><img src=\"https://colab.research.google.com/assets/colab-badge.svg\" alt=\"Open In Colab\"/></a>"
      ]
    },
    {
      "cell_type": "code",
      "execution_count": null,
      "metadata": {
        "colab": {
          "base_uri": "https://localhost:8080/"
        },
        "id": "eez0-9eUZaD-",
        "outputId": "8d706814-443f-4e02-aeaf-a4ce9d41a0cd"
      },
      "outputs": [
        {
          "output_type": "stream",
          "name": "stdout",
          "text": [
            "Number of duplicate rows: 24\n",
            "Number of rows after removing duplicates: 32537\n"
          ]
        }
      ],
      "source": [
        "import pandas as pd\n",
        "\n",
        "# Step 1: Load the dataset (assuming the dataset file is in the same directory as this script)\n",
        "file_path = \"adult.data\"\n",
        "column_names = [\n",
        "    \"age\", \"workclass\", \"role\", \"education\", \"education-num\", \"marital-status\",\n",
        "    \"occupation\", \"relationship\", \"race\", \"sex\", \"capital-gain\", \"capital-loss\",\n",
        "    \"hours-per-week\", \"native-country\", \"income\"\n",
        "]\n",
        "df = pd.read_csv(file_path, names=column_names, na_values=' ?')\n",
        "\n",
        "# Step 2: Identify duplicate rows\n",
        "duplicate_rows = df[df.duplicated()]\n",
        "\n",
        "# Step 3: Remove duplicate rows\n",
        "cleaned_df = df.drop_duplicates()\n",
        "\n",
        "# Step 4: Verify that duplicate rows have been removed\n",
        "print(\"Number of duplicate rows:\", len(duplicate_rows))\n",
        "print(\"Number of rows after removing duplicates:\", len(cleaned_df))\n",
        "\n",
        "# Step 5: Save the cleaned dataset back to a file if necessary\n",
        "# cleaned_df.to_csv('cleaned_adult_dataset.csv', index=False)\n"
      ]
    },
    {
      "cell_type": "code",
      "source": [],
      "metadata": {
        "id": "q3UgCsrLZaoO"
      },
      "execution_count": null,
      "outputs": []
    }
  ]
}