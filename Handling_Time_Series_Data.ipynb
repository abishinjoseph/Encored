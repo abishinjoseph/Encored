{
  "nbformat": 4,
  "nbformat_minor": 0,
  "metadata": {
    "colab": {
      "provenance": [],
      "authorship_tag": "ABX9TyM59TfIntK4GyB+qByObAMU",
      "include_colab_link": true
    },
    "kernelspec": {
      "name": "python3",
      "display_name": "Python 3"
    },
    "language_info": {
      "name": "python"
    }
  },
  "cells": [
    {
      "cell_type": "markdown",
      "metadata": {
        "id": "view-in-github",
        "colab_type": "text"
      },
      "source": [
        "<a href=\"https://colab.research.google.com/github/abishinjoseph/Encored/blob/main/Handling_Time_Series_Data.ipynb\" target=\"_parent\"><img src=\"https://colab.research.google.com/assets/colab-badge.svg\" alt=\"Open In Colab\"/></a>"
      ]
    },
    {
      "cell_type": "code",
      "execution_count": null,
      "metadata": {
        "colab": {
          "base_uri": "https://localhost:8080/"
        },
        "id": "5Zw9pVPT1WLa",
        "outputId": "bb84682e-0ff0-44c1-9092-fc885ef1a068"
      },
      "outputs": [
        {
          "output_type": "stream",
          "name": "stderr",
          "text": [
            "<ipython-input-1-bcc8ebe5324f>:6: DtypeWarning: Columns (7) have mixed types. Specify dtype option on import or set low_memory=False.\n",
            "  bitcoin_df = pd.read_csv(dataset_path)\n"
          ]
        },
        {
          "output_type": "stream",
          "name": "stdout",
          "text": [
            "                      Timestamp  Open  High   Low  Close  Volume_(BTC)  \\\n",
            "0 1970-01-01 00:00:01.325317920  4.39  4.39  4.39   4.39      0.455581   \n",
            "1 1970-01-01 00:00:01.325317980   NaN   NaN   NaN    NaN           NaN   \n",
            "2 1970-01-01 00:00:01.325318040   NaN   NaN   NaN    NaN           NaN   \n",
            "3 1970-01-01 00:00:01.325318100   NaN   NaN   NaN    NaN           NaN   \n",
            "4 1970-01-01 00:00:01.325318160   NaN   NaN   NaN    NaN           NaN   \n",
            "\n",
            "   Volume_(Currency) Weighted_Price  Year  Month  Day  DayOfWeek  WeekOfYear  \\\n",
            "0                2.0           4.39  1970      1    1          3           1   \n",
            "1                NaN            NaN  1970      1    1          3           1   \n",
            "2                NaN            NaN  1970      1    1          3           1   \n",
            "3                NaN            NaN  1970      1    1          3           1   \n",
            "4                NaN            NaN  1970      1    1          3           1   \n",
            "\n",
            "   Close_Lag1  Close_Lag2  \n",
            "0         NaN         NaN  \n",
            "1        4.39         NaN  \n",
            "2         NaN        4.39  \n",
            "3         NaN         NaN  \n",
            "4         NaN         NaN  \n"
          ]
        }
      ],
      "source": [
        "import pandas as pd\n",
        "\n",
        "# Load the dataset\n",
        "dataset_path = \"Bitcoin_Historical Data.csv\"  # Update the path to the location of your downloaded file\n",
        "try:\n",
        "    bitcoin_df = pd.read_csv(dataset_path)\n",
        "except FileNotFoundError:\n",
        "    print(\"File not found. Please check the file path.\")\n",
        "    exit()\n",
        "except Exception as e:\n",
        "    print(\"An error occurred while loading the dataset:\", e)\n",
        "    exit()\n",
        "\n",
        "# Convert the timestamp column to datetime format\n",
        "try:\n",
        "    bitcoin_df['Timestamp'] = pd.to_datetime(bitcoin_df['Timestamp'])\n",
        "except KeyError:\n",
        "    print(\"Timestamp column not found. Please ensure you have the correct column name.\")\n",
        "    exit()\n",
        "except Exception as e:\n",
        "    print(\"An error occurred while converting the timestamp column:\", e)\n",
        "    exit()\n",
        "\n",
        "# Extract relevant time-based features\n",
        "bitcoin_df['Year'] = bitcoin_df['Timestamp'].dt.year\n",
        "bitcoin_df['Month'] = bitcoin_df['Timestamp'].dt.month\n",
        "bitcoin_df['Day'] = bitcoin_df['Timestamp'].dt.day\n",
        "bitcoin_df['DayOfWeek'] = bitcoin_df['Timestamp'].dt.dayofweek\n",
        "bitcoin_df['WeekOfYear'] = bitcoin_df['Timestamp'].dt.isocalendar().week\n",
        "\n",
        "# Calculate lag features\n",
        "bitcoin_df['Close_Lag1'] = bitcoin_df['Close'].shift(1)\n",
        "bitcoin_df['Close_Lag2'] = bitcoin_df['Close'].shift(2)\n",
        "\n",
        "# Display the modified dataset\n",
        "print(bitcoin_df.head())\n"
      ]
    }
  ]
}